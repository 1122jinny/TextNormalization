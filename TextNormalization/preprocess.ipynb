{
 "cells": [
  {
   "cell_type": "code",
   "execution_count": 1,
   "metadata": {},
   "outputs": [],
   "source": [
    "import locale\n",
    "import functools\n",
    "import hgtk\n",
    "import numpy as np\n",
    "import pandas as pd\n",
    "import string\n",
    "import re\n",
    "\n",
    "class preprocess() :\n",
    "    def __init__(text_name):\n",
    "        self.corpus = self.fileopen(text_name)\n",
    "        \n",
    "    def fileopen(self,text_name) :\n",
    "        f = open(text_name + \".txt\",encoding = 'cp949',mode = \"r\")\n",
    "        dictionary = f.read()\n",
    "        words = dictionary.split('\\n')\n",
    "        f.close()\n",
    "        return words\n",
    "    \n",
    "    def clean_text(self, self.corpus) :\n",
    "        correct = list()\n",
    "        words = corpus\n",
    "        for word in words :\n",
    "            if word == '':\n",
    "                continue\n",
    "            else :\n",
    "                correct.append(word)\n",
    "\n",
    "        # 단어 하나씩 분해\n",
    "        word_deletet = list()\n",
    "        A = \"\"\n",
    "        for word in words :\n",
    "            for w in word :\n",
    "                if w == word[-1] :\n",
    "                    word_deletet.append(A+w)\n",
    "                    A=\"\"\n",
    "                elif w == '\\t' :\n",
    "                    word_deletet.append(A)\n",
    "                    A=\"\"\n",
    "                else :\n",
    "                    A = A+w\n",
    "\n",
    "        #특수문자와 숫자 제거\n",
    "        word_save_han = list()\n",
    "        for word in word_deletet:\n",
    "            condition_1 = re.compile(\"[^ㄱ-ㅎ가-힣()/]\") \n",
    "            check_1 = condition_1.search(word)\n",
    "            if check_1:\n",
    "                word_save_han.append(re.sub('[^ㄱ-ㅎ가-힣()]','',word))\n",
    "            else :\n",
    "                word_save_han.append(word)\n",
    "\n",
    "        #괄호 삭제\n",
    "        deletew = \"\"\n",
    "        word_del_ = list()\n",
    "        for word in word_save_han :\n",
    "            if '(' in word:\n",
    "                i = word.index('(')\n",
    "                word = word[:i]\n",
    "                word_del_.append(word)\n",
    "            else :\n",
    "                word_del_.append(word)\n",
    "\n",
    "        word_del2 = list() \n",
    "        for word in word_del_ :\n",
    "            if '/' in word :\n",
    "                word_del2.append(word[:word.index('/')])\n",
    "                word_del2.append(word[word.index('/')+1:])\n",
    "            else :\n",
    "                word_del2.append(word)\n",
    "        #중복삭제\n",
    "        word_del2 = sorted(list(set(word_del2)))#,key=functools.cmp_to_key(locale.strcoll)\n",
    "        \n",
    "        return word_del2\n",
    "    def prepro(self) :\n",
    "        corpus_clean = self.clean_text(self.corpus)\n",
    "        return corpus_clean"
   ]
  },
  {
   "cell_type": "code",
   "execution_count": null,
   "metadata": {},
   "outputs": [],
   "source": []
  },
  {
   "cell_type": "code",
   "execution_count": 6,
   "metadata": {},
   "outputs": [
    {
     "ename": "ImportError",
     "evalue": "cannot import name 'preprocess'",
     "output_type": "error",
     "traceback": [
      "\u001b[0;31m---------------------------------------------------------------------------\u001b[0m",
      "\u001b[0;31mImportError\u001b[0m                               Traceback (most recent call last)",
      "\u001b[0;32m<ipython-input-6-caba378ef2e9>\u001b[0m in \u001b[0;36m<module>\u001b[0;34m()\u001b[0m\n\u001b[0;32m----> 1\u001b[0;31m \u001b[0;32mfrom\u001b[0m \u001b[0mpreprocessing\u001b[0m \u001b[0;32mimport\u001b[0m \u001b[0mpreprocess\u001b[0m\u001b[0;34m\u001b[0m\u001b[0m\n\u001b[0m",
      "\u001b[0;31mImportError\u001b[0m: cannot import name 'preprocess'"
     ]
    }
   ],
   "source": [
    "from preprocessing import preprocess"
   ]
  },
  {
   "cell_type": "code",
   "execution_count": null,
   "metadata": {},
   "outputs": [],
   "source": []
  }
 ],
 "metadata": {
  "kernelspec": {
   "display_name": "Python [default]",
   "language": "python",
   "name": "python3"
  },
  "language_info": {
   "codemirror_mode": {
    "name": "ipython",
    "version": 3
   },
   "file_extension": ".py",
   "mimetype": "text/x-python",
   "name": "python",
   "nbconvert_exporter": "python",
   "pygments_lexer": "ipython3",
   "version": "3.5.5"
  }
 },
 "nbformat": 4,
 "nbformat_minor": 2
}
